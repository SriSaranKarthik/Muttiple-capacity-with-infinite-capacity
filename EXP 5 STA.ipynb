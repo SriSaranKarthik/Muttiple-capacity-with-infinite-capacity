{
 "cells": [
  {
   "cell_type": "markdown",
   "id": "15349feb-8443-446d-b2a1-6c2444292e1a",
   "metadata": {},
   "source": [
    "# EXPERIMENT 05: Multiple server with infinite capacity - (M/M/c):(oo/FIFO) #\n",
    "# BY: K.SRISARAN KARTHIK \n",
    "# REG NO: 212224230275 "
   ]
  },
  {
   "cell_type": "code",
   "execution_count": null,
   "id": "1d629529-8b33-45af-9a60-6d7b5dfc7c58",
   "metadata": {},
   "outputs": [
    {
     "name": "stdout",
     "output_type": "stream",
     "text": [
      "Enter the mean inter arrival time of objects from Feeder (in secs):  10\n",
      "Enter the mean  inter service time of Lathe Machine (in secs) :   6\n",
      "Enter the Additional time taken for the Robot (in secs) :   1\n",
      "Number of service centre :   2\n"
     ]
    },
    {
     "name": "stdout",
     "output_type": "stream",
     "text": [
      "--------------------------------------------------------------\n",
      "Multiple Server with Infinite Capacity - (M/M/c):(oo/FIFO)\n",
      "--------------------------------------------------------------\n",
      "The mean arrival rate per second : 0.10 \n",
      "The mean service rate per second : 0.14 \n",
      "Average number of objects in the system : 0.80 \n",
      "Average number of objects in the conveyor :  0.10 \n",
      "Average waiting time of an object in the system : 7.98 secs\n",
      "Average waiting time of an object in the conveyor : 0.98 secs\n",
      "Probability that the system is busy : 0.35 \n",
      "Probability that the system is empty : 0.65 \n",
      "--------------------------------------------------------------\n"
     ]
    }
   ],
   "source": [
    "import math\n",
    "arr_time=float(input(\"Enter the mean inter arrival time of objects from Feeder (in secs): \"))\n",
    "ser_time=float(input(\"Enter the mean  inter service time of Lathe Machine (in secs) :  \"))\n",
    "Robot_time=float(input(\"Enter the Additional time taken for the Robot (in secs) :  \"))\n",
    "c=int(input(\"Number of service centre :  \"))\n",
    "lam=1/arr_time\n",
    "mu=1/(ser_time+Robot_time)\n",
    "print(\"--------------------------------------------------------------\")\n",
    "print(\"Multiple Server with Infinite Capacity - (M/M/c):(oo/FIFO)\")\n",
    "print(\"--------------------------------------------------------------\")\n",
    "print(\"The mean arrival rate per second : %0.2f \"%lam)\n",
    "print(\"The mean service rate per second : %0.2f \"%mu)\n",
    "rho=lam/(c*mu)\n",
    "sum=(lam/mu)**c*(1/(1-rho))/math.factorial(c)\n",
    "for i in range(0,c):\n",
    "    sum=sum+(lam/mu)**i/math.factorial(i)\n",
    "P0=1/sum\n",
    "if (rho<1):\n",
    "    Lq=(P0/math.factorial(c))*(1/c)*(lam/mu)**(c+1)/(1-rho)**2\n",
    "    Ls=Lq+lam/mu\n",
    "    Ws=Ls/lam\n",
    "    Wq=Lq/lam\n",
    "    print(\"Average number of objects in the system : %0.2f \"%Ls)\n",
    "    print(\"Average number of objects in the conveyor :  %0.2f \"%Lq)\n",
    "    print(\"Average waiting time of an object in the system : %0.2f secs\"%Ws)\n",
    "    print(\"Average waiting time of an object in the conveyor : %0.2f secs\"%Wq)\n",
    "    print(\"Probability that the system is busy : %0.2f \"%(rho))\n",
    "    print(\"Probability that the system is empty : %0.2f \"%(1-rho))\n",
    "else:\n",
    "    print(\"Warning! Objects Over flow will happen in the conveyor\")\n",
    "print(\"--------------------------------------------------------------\")"
   ]
  },
  {
   "cell_type": "code",
   "execution_count": null,
   "id": "1dd597df-c3a5-40f5-8e60-7e69c1b1f21c",
   "metadata": {},
   "outputs": [],
   "source": []
  }
 ],
 "metadata": {
  "kernelspec": {
   "display_name": "Python 3 (ipykernel)",
   "language": "python",
   "name": "python3"
  },
  "language_info": {
   "codemirror_mode": {
    "name": "ipython",
    "version": 3
   },
   "file_extension": ".py",
   "mimetype": "text/x-python",
   "name": "python",
   "nbconvert_exporter": "python",
   "pygments_lexer": "ipython3",
   "version": "3.13.5"
  }
 },
 "nbformat": 4,
 "nbformat_minor": 5
}
